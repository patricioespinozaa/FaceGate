{
  "nbformat": 4,
  "nbformat_minor": 0,
  "metadata": {
    "colab": {
      "provenance": []
    },
    "kernelspec": {
      "name": "python3",
      "display_name": "Python 3"
    },
    "language_info": {
      "name": "python"
    }
  },
  "cells": [
    {
      "cell_type": "markdown",
      "source": [
        "Modelo Baselone"
      ],
      "metadata": {
        "id": "znFKmZ-I8ACk"
      }
    },
    {
      "cell_type": "code",
      "source": [
        "def preprocess_image_from_array(img_array):\n",
        "    img = img_array.resize((224, 224)).convert('RGB') #cambia dim de imagen para coincidir con el modelo (pasamos a rgb tmb porsiaca)\n",
        "    img = np.array(img).astype('float32') #cambiar estructura para mandar al modelo correctamente\n",
        "    img = np.expand_dims(img, axis=0)\n",
        "    img = preprocess_input(img, version=2)\n",
        "    return img\n",
        "\n",
        "def get_embedding_from_array(model, img_array):\n",
        "    img = preprocess_image_from_array(img_array) #llama al modelo con la imagen preprocesada para obtener la vectorizacion de los features faciales\n",
        "    embedding = model.predict(img)\n",
        "    return embedding[0]\n",
        "\n",
        "def verify(embedding1, embedding2, threshold=0.5): #ve distancia coseno lol\n",
        "    dist = cosine(embedding1, embedding2)\n",
        "    print(f\"Distancia coseno: {dist}\")\n",
        "    return dist < threshold"
      ],
      "metadata": {
        "id": "tuV2SUaVB5U4"
      },
      "execution_count": null,
      "outputs": []
    },
    {
      "cell_type": "code",
      "source": [
        "\n",
        "model = VGGFace(model='resnet50', include_top=False, input_shape=(224, 224, 3), pooling='avg') #modelo sin capa de softmax para hacer 1:1\n"
      ],
      "metadata": {
        "id": "CgeMDx1eCFKr"
      },
      "execution_count": null,
      "outputs": []
    },
    {
      "cell_type": "code",
      "source": [
        "uploaded = files.upload()\n",
        "#subir las 2 imagenes a comparar\n",
        "\n",
        "imgs = list(uploaded.keys())\n",
        "img1 = Image.open(BytesIO(uploaded[imgs[0]]))\n",
        "img2 = Image.open(BytesIO(uploaded[imgs[1]]))\n",
        "\n",
        "# Extraer embeddings\n",
        "emb1 = get_embedding_from_array(model, img1)\n",
        "emb2 = get_embedding_from_array(model, img2)\n",
        "\n",
        "# Verificar\n",
        "if verify(emb1, emb2):\n",
        "    print(\"✅ Coincidencia: acceso autorizado\")\n",
        "else:\n",
        "    print(\"❌ No coincide: acceso denegado\")\n"
      ],
      "metadata": {
        "id": "ZB8cb6NlCHxn"
      },
      "execution_count": null,
      "outputs": []
    }
  ]
}